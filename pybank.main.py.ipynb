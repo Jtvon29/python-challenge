{
 "cells": [
  {
   "cell_type": "code",
   "execution_count": 1,
   "metadata": {},
   "outputs": [
    {
     "data": {
      "text/html": [
       "<div>\n",
       "<style>\n",
       "    .dataframe thead tr:only-child th {\n",
       "        text-align: right;\n",
       "    }\n",
       "\n",
       "    .dataframe thead th {\n",
       "        text-align: left;\n",
       "    }\n",
       "\n",
       "    .dataframe tbody tr th {\n",
       "        vertical-align: top;\n",
       "    }\n",
       "</style>\n",
       "<table border=\"1\" class=\"dataframe\">\n",
       "  <thead>\n",
       "    <tr style=\"text-align: right;\">\n",
       "      <th></th>\n",
       "      <th>Date</th>\n",
       "      <th>Revenue</th>\n",
       "    </tr>\n",
       "  </thead>\n",
       "  <tbody>\n",
       "    <tr>\n",
       "      <th>0</th>\n",
       "      <td>Jan-09</td>\n",
       "      <td>943690.0</td>\n",
       "    </tr>\n",
       "    <tr>\n",
       "      <th>1</th>\n",
       "      <td>Feb-09</td>\n",
       "      <td>1062565.0</td>\n",
       "    </tr>\n",
       "    <tr>\n",
       "      <th>2</th>\n",
       "      <td>Mar-09</td>\n",
       "      <td>210079.0</td>\n",
       "    </tr>\n",
       "    <tr>\n",
       "      <th>3</th>\n",
       "      <td>Apr-09</td>\n",
       "      <td>-735286.0</td>\n",
       "    </tr>\n",
       "    <tr>\n",
       "      <th>4</th>\n",
       "      <td>May-09</td>\n",
       "      <td>842933.0</td>\n",
       "    </tr>\n",
       "  </tbody>\n",
       "</table>\n",
       "</div>"
      ],
      "text/plain": [
       "     Date    Revenue\n",
       "0  Jan-09   943690.0\n",
       "1  Feb-09  1062565.0\n",
       "2  Mar-09   210079.0\n",
       "3  Apr-09  -735286.0\n",
       "4  May-09   842933.0"
      ]
     },
     "execution_count": 1,
     "metadata": {},
     "output_type": "execute_result"
    }
   ],
   "source": [
    "#Insert modules\n",
    "import pandas as pd\n",
    "\n",
    "\n",
    "#record the path of the csv file\n",
    "csvpath=(\"../pybank.py/budget_data_2.csv\")\n",
    "\n",
    "#Read the csv\n",
    "budget_df = pd.read_csv(csvpath)\n",
    "budget_df.head()"
   ]
  },
  {
   "cell_type": "code",
   "execution_count": 2,
   "metadata": {},
   "outputs": [
    {
     "data": {
      "text/plain": [
       "Index(['Date', 'Revenue'], dtype='object')"
      ]
     },
     "execution_count": 2,
     "metadata": {},
     "output_type": "execute_result"
    }
   ],
   "source": [
    "budget_df.columns"
   ]
  },
  {
   "cell_type": "code",
   "execution_count": 3,
   "metadata": {
    "scrolled": true
   },
   "outputs": [
    {
     "name": "stdout",
     "output_type": "stream",
     "text": [
      "86\n"
     ]
    }
   ],
   "source": [
    "    #count the number of months in the \"Date\" column\n",
    "    Tot_months = budget_df['Date'].count()\n",
    "    print(Tot_months)  "
   ]
  },
  {
   "cell_type": "code",
   "execution_count": 4,
   "metadata": {},
   "outputs": [
    {
     "name": "stdout",
     "output_type": "stream",
     "text": [
      "36973911.0\n"
     ]
    }
   ],
   "source": [
    "    #Sum up the revenue values\n",
    "    Tot_Revenue = budget_df['Revenue'].sum()\n",
    "    print(Tot_Revenue)"
   ]
  },
  {
   "cell_type": "code",
   "execution_count": 9,
   "metadata": {
    "scrolled": false
   },
   "outputs": [
    {
     "name": "stdout",
     "output_type": "stream",
     "text": [
      "[0     0.0\n",
      "1     0.0\n",
      "2     0.0\n",
      "3     0.0\n",
      "4     0.0\n",
      "5     0.0\n",
      "6     0.0\n",
      "7     0.0\n",
      "8     0.0\n",
      "9     0.0\n",
      "10    0.0\n",
      "11    0.0\n",
      "12    0.0\n",
      "13    0.0\n",
      "14    0.0\n",
      "15    0.0\n",
      "16    0.0\n",
      "17    0.0\n",
      "18    0.0\n",
      "19    0.0\n",
      "20    0.0\n",
      "21    0.0\n",
      "22    0.0\n",
      "23    0.0\n",
      "24    0.0\n",
      "25    0.0\n",
      "26    0.0\n",
      "27    0.0\n",
      "28    0.0\n",
      "29    0.0\n",
      "     ... \n",
      "57    0.0\n",
      "58    0.0\n",
      "59    0.0\n",
      "60    0.0\n",
      "61    0.0\n",
      "62    0.0\n",
      "63    0.0\n",
      "64    0.0\n",
      "65    0.0\n",
      "66    0.0\n",
      "67    0.0\n",
      "68    0.0\n",
      "69    0.0\n",
      "70    0.0\n",
      "71    0.0\n",
      "72    0.0\n",
      "73    0.0\n",
      "74    0.0\n",
      "75    0.0\n",
      "76    0.0\n",
      "77    0.0\n",
      "78    0.0\n",
      "79    0.0\n",
      "80    0.0\n",
      "81    0.0\n",
      "82    0.0\n",
      "83    0.0\n",
      "84    0.0\n",
      "85    0.0\n",
      "86    NaN\n",
      "Name: Revenue, Length: 87, dtype: float64]\n",
      "[0     0.0\n",
      "1     0.0\n",
      "2     0.0\n",
      "3     0.0\n",
      "4     0.0\n",
      "5     0.0\n",
      "6     0.0\n",
      "7     0.0\n",
      "8     0.0\n",
      "9     0.0\n",
      "10    0.0\n",
      "11    0.0\n",
      "12    0.0\n",
      "13    0.0\n",
      "14    0.0\n",
      "15    0.0\n",
      "16    0.0\n",
      "17    0.0\n",
      "18    0.0\n",
      "19    0.0\n",
      "20    0.0\n",
      "21    0.0\n",
      "22    0.0\n",
      "23    0.0\n",
      "24    0.0\n",
      "25    0.0\n",
      "26    0.0\n",
      "27    0.0\n",
      "28    0.0\n",
      "29    0.0\n",
      "     ... \n",
      "57    0.0\n",
      "58    0.0\n",
      "59    0.0\n",
      "60    0.0\n",
      "61    0.0\n",
      "62    0.0\n",
      "63    0.0\n",
      "64    0.0\n",
      "65    0.0\n",
      "66    0.0\n",
      "67    0.0\n",
      "68    0.0\n",
      "69    0.0\n",
      "70    0.0\n",
      "71    0.0\n",
      "72    0.0\n",
      "73    0.0\n",
      "74    0.0\n",
      "75    0.0\n",
      "76    0.0\n",
      "77    0.0\n",
      "78    0.0\n",
      "79    0.0\n",
      "80    0.0\n",
      "81    0.0\n",
      "82    0.0\n",
      "83    0.0\n",
      "84    0.0\n",
      "85    0.0\n",
      "86    NaN\n",
      "Name: Revenue, Length: 87, dtype: float64, 0     0.0\n",
      "1     0.0\n",
      "2     0.0\n",
      "3     0.0\n",
      "4     0.0\n",
      "5     0.0\n",
      "6     0.0\n",
      "7     0.0\n",
      "8     0.0\n",
      "9     0.0\n",
      "10    0.0\n",
      "11    0.0\n",
      "12    0.0\n",
      "13    0.0\n",
      "14    0.0\n",
      "15    0.0\n",
      "16    0.0\n",
      "17    0.0\n",
      "18    0.0\n",
      "19    0.0\n",
      "20    0.0\n",
      "21    0.0\n",
      "22    0.0\n",
      "23    0.0\n",
      "24    0.0\n",
      "25    0.0\n",
      "26    0.0\n",
      "27    0.0\n",
      "28    0.0\n",
      "29    0.0\n",
      "     ... \n",
      "57    0.0\n",
      "58    0.0\n",
      "59    0.0\n",
      "60    0.0\n",
      "61    0.0\n",
      "62    0.0\n",
      "63    0.0\n",
      "64    0.0\n",
      "65    0.0\n",
      "66    0.0\n",
      "67    0.0\n",
      "68    0.0\n",
      "69    0.0\n",
      "70    0.0\n",
      "71    0.0\n",
      "72    0.0\n",
      "73    0.0\n",
      "74    0.0\n",
      "75    0.0\n",
      "76    0.0\n",
      "77    0.0\n",
      "78    0.0\n",
      "79    0.0\n",
      "80    0.0\n",
      "81    0.0\n",
      "82    0.0\n",
      "83    0.0\n",
      "84    0.0\n",
      "85    0.0\n",
      "86    NaN\n",
      "Name: Revenue, Length: 87, dtype: float64]\n"
     ]
    }
   ],
   "source": [
    "#empty lists and other variables\n",
    "Rev_change_list = []\n",
    "\n",
    "#Calculate the average change in revenue between months\n",
    "for row in budget_df:\n",
    "    \n",
    "    #Create Revenue change variable\n",
    "    Prev_revenue = budget_df['Revenue']\n",
    "    Revenue_change = budget_df['Revenue'] - Prev_revenue\n",
    "    \n",
    "    Rev_change_list = Rev_change_list + [Revenue_change]\n",
    "    \n",
    "    print(Rev_change_list)\n",
    "    \n",
    "    \n",
    "    \n",
    "    \n",
    "    \n",
    "    \n",
    "    \n",
    "   "
   ]
  },
  {
   "cell_type": "code",
   "execution_count": 8,
   "metadata": {},
   "outputs": [],
   "source": [
    "#Calculate the greatest increase in revenue\n"
   ]
  },
  {
   "cell_type": "code",
   "execution_count": null,
   "metadata": {
    "collapsed": true
   },
   "outputs": [],
   "source": []
  },
  {
   "cell_type": "code",
   "execution_count": null,
   "metadata": {
    "collapsed": true
   },
   "outputs": [],
   "source": []
  },
  {
   "cell_type": "code",
   "execution_count": null,
   "metadata": {
    "collapsed": true
   },
   "outputs": [],
   "source": []
  }
 ],
 "metadata": {
  "kernelspec": {
   "display_name": "Python 3",
   "language": "python",
   "name": "python3"
  },
  "language_info": {
   "codemirror_mode": {
    "name": "ipython",
    "version": 3
   },
   "file_extension": ".py",
   "mimetype": "text/x-python",
   "name": "python",
   "nbconvert_exporter": "python",
   "pygments_lexer": "ipython3",
   "version": "3.6.3"
  }
 },
 "nbformat": 4,
 "nbformat_minor": 2
}
